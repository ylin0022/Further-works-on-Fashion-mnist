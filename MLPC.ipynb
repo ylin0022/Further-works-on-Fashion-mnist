{
 "cells": [
  {
   "cell_type": "markdown",
   "metadata": {},
   "source": [
    "# COMP5318 - Machine Learning and Data Mining \n",
    "\n",
    "## Assignment 2\n",
    "\n",
    "#### Tuning parameters for MLPC"
   ]
  },
  {
   "cell_type": "markdown",
   "metadata": {},
   "source": [
    "### 1 Load Data "
   ]
  },
  {
   "cell_type": "code",
   "execution_count": 6,
   "metadata": {},
   "outputs": [],
   "source": [
    "import numpy as np\n",
    "import mnist_reader\n",
    "X_train, y_train = mnist_reader.load_mnist('data/fashion', kind='train')\n",
    "X_test, y_test = mnist_reader.load_mnist('data/fashion', kind='t10k')\n"
   ]
  },
  {
   "cell_type": "markdown",
   "metadata": {},
   "source": [
    "### 2 Preprocessing\n"
   ]
  },
  {
   "cell_type": "markdown",
   "metadata": {},
   "source": [
    "#### 2.1 StandardScaler"
   ]
  },
  {
   "cell_type": "code",
   "execution_count": 5,
   "metadata": {},
   "outputs": [
    {
     "name": "stderr",
     "output_type": "stream",
     "text": [
      "G:\\Anaconda3\\lib\\site-packages\\sklearn\\utils\\validation.py:475: DataConversionWarning: Data with input dtype uint8 was converted to float64 by StandardScaler.\n",
      "  warnings.warn(msg, DataConversionWarning)\n"
     ]
    }
   ],
   "source": [
    "from sklearn.preprocessing import StandardScaler\n",
    "scaler = StandardScaler()\n",
    "\n",
    "scaler.fit(X_test)\n",
    "X_test = scaler.transform(X_test)\n",
    "\n",
    "scaler.fit(X_train)\n",
    "X_train = scaler.transform(X_train)"
   ]
  },
  {
   "cell_type": "markdown",
   "metadata": {},
   "source": [
    "#### 2.2 PCA"
   ]
  },
  {
   "cell_type": "code",
   "execution_count": 4,
   "metadata": {},
   "outputs": [
    {
     "name": "stdout",
     "output_type": "stream",
     "text": [
      "Wall time: 4.88 s\n"
     ]
    }
   ],
   "source": [
    "%%time\n",
    "from sklearn.decomposition import PCA\n",
    "\n",
    "pca = PCA(0.9)\n",
    "pca.fit(X_train)\n",
    "X_train_PCA = pca.transform(X_train) \n",
    "X_test_PCA = pca.transform(X_test) \n"
   ]
  },
  {
   "cell_type": "markdown",
   "metadata": {},
   "source": [
    "### 3 MLP"
   ]
  },
  {
   "cell_type": "markdown",
   "metadata": {},
   "source": [
    "#### 3.1 Tune Parameters"
   ]
  },
  {
   "cell_type": "code",
   "execution_count": 7,
   "metadata": {},
   "outputs": [
    {
     "name": "stdout",
     "output_type": "stream",
     "text": [
      "Fitting 3 folds for each of 3 candidates, totalling 9 fits\n"
     ]
    },
    {
     "name": "stderr",
     "output_type": "stream",
     "text": [
      "[Parallel(n_jobs=-1)]: Done   4 out of   9 | elapsed:  2.2min remaining:  2.7min\n",
      "[Parallel(n_jobs=-1)]: Done   9 out of   9 | elapsed:  3.6min remaining:    0.0s\n",
      "[Parallel(n_jobs=-1)]: Done   9 out of   9 | elapsed:  3.6min finished\n"
     ]
    },
    {
     "name": "stdout",
     "output_type": "stream",
     "text": [
      "The best parameters are:\n",
      "{'activation': 'relu', 'hidden_layer_sizes': [150]}\n",
      "The accuracies of all parameters:\n",
      "0.877 (+/-0.009) for {'activation': 'relu', 'hidden_layer_sizes': [150]}\n",
      "\n",
      "0.865 (+/-0.007) for {'activation': 'tanh', 'hidden_layer_sizes': [150]}\n",
      "\n",
      "0.874 (+/-0.006) for {'activation': 'logistic', 'hidden_layer_sizes': [150]}\n",
      "\n",
      "Wall time: 4min 19s\n"
     ]
    }
   ],
   "source": [
    "%%time\n",
    "from sklearn.model_selection import GridSearchCV\n",
    "from sklearn.neural_network import MLPClassifier\n",
    "# Set the parameters by cross-validation\n",
    "tuned_parameters = [{'activation': ['relu', 'tanh', 'logistic'], 'hidden_layer_sizes': [[100],[100,10],[100,50,20],[150],[50, 40, 30, 20]]}]\n",
    "\n",
    "clf = GridSearchCV(MLPClassifier(), tuned_parameters, n_jobs =-1, cv=3, scoring='accuracy',verbose =2)\n",
    "clf.fit(X_train_PCA, y_train)\n",
    "\n",
    "print(\"The best parameters are:\")\n",
    "print(clf.best_params_)\n",
    "print(\"The accuracies of all parameters:\")\n",
    "\n",
    "for mean, std, params in zip(clf.cv_results_['mean_test_score'], clf.cv_results_['std_test_score'], clf.cv_results_['params']):\n",
    "    print(\"%0.3f (+/-%0.03f) for %r\"% (mean, std * 2, params))\n",
    "    print()\n",
    "    \n",
    "    \n",
    "# The best parameters are:\n",
    "# {'activation': 'relu', 'hidden_layer_sizes': [100]}\n",
    "# The accuracies of all parameters:\n",
    "\n",
    "# 0.877 (+/-0.003) for {'activation': 'relu', 'hidden_layer_sizes': [100]}\n",
    "\n",
    "# 0.857 (+/-0.005) for {'activation': 'tanh', 'hidden_layer_sizes': [100]}\n",
    "\n",
    "# 0.865 (+/-0.004) for {'activation': 'logistic', 'hidden_layer_sizes': [100]}\n",
    "\n",
    "# 0.873 (+/-0.005) for {'activation': 'relu', 'hidden_layer_sizes': [100, 10]}\n",
    "\n",
    "# 0.854 (+/-0.004) for {'activation': 'tanh', 'hidden_layer_sizes': [100, 10]}\n",
    "\n",
    "# 0.854 (+/-0.005) for {'activation': 'logistic', 'hidden_layer_sizes': [100, 10]}\n",
    "\n",
    "# 0.877 (+/-0.009) for {'activation': 'relu', 'hidden_layer_sizes': [150]}\n",
    "\n",
    "# 0.865 (+/-0.007) for {'activation': 'tanh', 'hidden_layer_sizes': [150]}\n",
    "\n",
    "# 0.874 (+/-0.006) for {'activation': 'logistic', 'hidden_layer_sizes': [150]}\n",
    "\n",
    "# 0.873 (+/-0.008) for {'activation': 'relu', 'hidden_layer_sizes': [100, 50, 20]}\n",
    "\n",
    "# 0.864 (+/-0.001) for {'activation': 'tanh', 'hidden_layer_sizes': [100, 50, 20]}\n",
    "\n",
    "# 0.859 (+/-0.003) for {'activation': 'logistic', 'hidden_layer_sizes': [100, 50, 20]}\n",
    "\n",
    "# 0.869 (+/-0.005) for {'activation': 'relu', 'hidden_layer_sizes': [50, 40, 30, 20]}\n",
    "\n",
    "# 0.852 (+/-0.003) for {'activation': 'tanh', 'hidden_layer_sizes': [50, 40, 30, 20]}\n",
    "\n",
    "# 0.854 (+/-0.004) for {'activation': 'logistic', 'hidden_layer_sizes': [50, 40, 30, 20]}\n",
    "\n",
    "# Wall time: 17min 25s"
   ]
  }
 ],
 "metadata": {
  "kernelspec": {
   "display_name": "Python 3",
   "language": "python",
   "name": "python3"
  },
  "language_info": {
   "codemirror_mode": {
    "name": "ipython",
    "version": 3
   },
   "file_extension": ".py",
   "mimetype": "text/x-python",
   "name": "python",
   "nbconvert_exporter": "python",
   "pygments_lexer": "ipython3",
   "version": "3.6.5"
  }
 },
 "nbformat": 4,
 "nbformat_minor": 2
}
