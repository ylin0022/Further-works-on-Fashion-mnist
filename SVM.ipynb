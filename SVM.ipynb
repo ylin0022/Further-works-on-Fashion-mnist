{
 "cells": [
  {
   "cell_type": "markdown",
   "metadata": {},
   "source": [
    "# COMP5318 - Machine Learning and Data Mining \n",
    "\n",
    "## Assignment 2\n",
    "\n",
    "#### Tuning parameters for SVM"
   ]
  },
  {
   "cell_type": "markdown",
   "metadata": {},
   "source": [
    "### 1 Load Data "
   ]
  },
  {
   "cell_type": "code",
   "execution_count": 5,
   "metadata": {},
   "outputs": [],
   "source": [
    "import numpy as np\n",
    "import mnist_reader\n",
    "X_train, y_train = mnist_reader.load_mnist('data/fashion', kind='train')\n",
    "X_test, y_test = mnist_reader.load_mnist('data/fashion', kind='t10k')\n"
   ]
  },
  {
   "cell_type": "markdown",
   "metadata": {},
   "source": [
    "### 2 Preprocessing\n"
   ]
  },
  {
   "cell_type": "markdown",
   "metadata": {},
   "source": [
    "#### 2.1 StandardScaler"
   ]
  },
  {
   "cell_type": "code",
   "execution_count": 4,
   "metadata": {},
   "outputs": [
    {
     "name": "stderr",
     "output_type": "stream",
     "text": [
      "G:\\Anaconda3\\lib\\site-packages\\sklearn\\utils\\validation.py:475: DataConversionWarning: Data with input dtype uint8 was converted to float64 by StandardScaler.\n",
      "  warnings.warn(msg, DataConversionWarning)\n"
     ]
    }
   ],
   "source": [
    "from sklearn.preprocessing import StandardScaler\n",
    "scaler = StandardScaler()\n",
    "\n",
    "scaler.fit(X_test)\n",
    "X_test = scaler.transform(X_test)\n",
    "\n",
    "scaler.fit(X_train)\n",
    "X_train = scaler.transform(X_train)"
   ]
  },
  {
   "cell_type": "markdown",
   "metadata": {},
   "source": [
    "#### 2.2 PCA"
   ]
  },
  {
   "cell_type": "code",
   "execution_count": 3,
   "metadata": {},
   "outputs": [
    {
     "name": "stdout",
     "output_type": "stream",
     "text": [
      "Wall time: 5.93 s\n"
     ]
    }
   ],
   "source": [
    "%%time\n",
    "from sklearn.decomposition import PCA\n",
    "\n",
    "pca = PCA(0.9)\n",
    "pca.fit(X_train)\n",
    "\n",
    "X_train_PCA = pca.transform(X_train) \n",
    "X_test_PCA = pca.transform(X_test) \n"
   ]
  },
  {
   "cell_type": "markdown",
   "metadata": {},
   "source": [
    "### 3 SVM"
   ]
  },
  {
   "cell_type": "markdown",
   "metadata": {},
   "source": [
    "#### 3.1 Tune Parameters"
   ]
  },
  {
   "cell_type": "code",
   "execution_count": null,
   "metadata": {},
   "outputs": [
    {
     "name": "stdout",
     "output_type": "stream",
     "text": [
      "Fitting 3 folds for each of 8 candidates, totalling 24 fits\n"
     ]
    }
   ],
   "source": [
    "%%time\n",
    "from sklearn.model_selection import GridSearchCV\n",
    "from sklearn.svm import SVC\n",
    "\n",
    "# Parameters for cross-validation\n",
    "tuned_parameters = [{'kernel': ['poly', 'rbf'], 'C': [1,10,50,100]}]\n",
    "\n",
    "clf = GridSearchCV(SVC(), tuned_parameters, n_jobs = -1, cv = 3, scoring = 'accuracy', verbose = 2)\n",
    "clf.fit(X_train_PCA, y_train)\n",
    "\n",
    "print(\"The best parameters are:\")\n",
    "print(clf.best_params_)\n",
    "print(\"The accuracies of all parameters:\")\n",
    "\n",
    "for mean, std, params in zip(clf.cv_results_['mean_test_score'], clf.cv_results_['std_test_score'], clf.cv_results_['params']):\n",
    "    print(\"%0.3f (+/-%0.03f) for %r\"% (mean, std * 2, params))\n",
    "    print()\n",
    "\n",
    "\n",
    "# The best parameters are:\n",
    "# {'C': 1, 'kernel': 'poly'}\n",
    "# The accuracies of all parameters:\n",
    "\n",
    "# 0.888 (+/-0.007) for {'C': 1, 'kernel': 'poly'}\n",
    "\n",
    "# 0.871 (+/-0.004) for {'C': 1, 'kernel': 'rbf'}\n",
    "\n",
    "# 0.881 (+/-0.008) for {'C': 10, 'kernel': 'poly'}\n",
    "\n",
    "# 0.874 (+/-0.008) for {'C': 10, 'kernel': 'rbf'}\n",
    "\n",
    "# 0.881 (+/-0.008) for {'C': 50, 'kernel': 'poly'}\n",
    "\n",
    "# 0.874 (+/-0.009) for {'C': 50, 'kernel': 'rbf'}\n",
    "\n",
    "# 0.881 (+/-0.008) for {'C': 100, 'kernel': 'poly'}\n",
    "\n",
    "# 0.874 (+/-0.009) for {'C': 100, 'kernel': 'rbf'}\n",
    "\n",
    "# Wall time: 43min 34s\n",
    "\n"
   ]
  }
 ],
 "metadata": {
  "kernelspec": {
   "display_name": "Python 3",
   "language": "python",
   "name": "python3"
  },
  "language_info": {
   "codemirror_mode": {
    "name": "ipython",
    "version": 3
   },
   "file_extension": ".py",
   "mimetype": "text/x-python",
   "name": "python",
   "nbconvert_exporter": "python",
   "pygments_lexer": "ipython3",
   "version": "3.6.5"
  }
 },
 "nbformat": 4,
 "nbformat_minor": 2
}
