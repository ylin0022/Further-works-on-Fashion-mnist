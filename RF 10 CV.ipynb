{
 "cells": [
  {
   "cell_type": "markdown",
   "metadata": {},
   "source": [
    "# COMP5318 - Machine Learning and Data Mining \n",
    "\n",
    "## Random Forest\n",
    "\n",
    "#### 10 fold cross validation"
   ]
  },
  {
   "cell_type": "markdown",
   "metadata": {},
   "source": [
    " 1 Load data"
   ]
  },
  {
   "cell_type": "code",
   "execution_count": 15,
   "metadata": {},
   "outputs": [],
   "source": [
    "import numpy as np\n",
    "import mnist_reader\n",
    "X_train, y_train = mnist_reader.load_mnist('data/fashion', kind='train')\n",
    "X_test, y_test = mnist_reader.load_mnist('data/fashion', kind='t10k')"
   ]
  },
  {
   "cell_type": "markdown",
   "metadata": {},
   "source": [
    "2 Standardization"
   ]
  },
  {
   "cell_type": "code",
   "execution_count": 16,
   "metadata": {},
   "outputs": [
    {
     "name": "stderr",
     "output_type": "stream",
     "text": [
      "G:\\Anaconda3\\lib\\site-packages\\sklearn\\utils\\validation.py:475: DataConversionWarning: Data with input dtype uint8 was converted to float64 by StandardScaler.\n",
      "  warnings.warn(msg, DataConversionWarning)\n"
     ]
    }
   ],
   "source": [
    "from sklearn.preprocessing import StandardScaler\n",
    "scaler = StandardScaler()\n",
    "\n",
    "scaler.fit(X_test)\n",
    "X_test = scaler.transform(X_test)\n",
    "\n",
    "scaler.fit(X_train)\n",
    "X_train = scaler.transform(X_train)"
   ]
  },
  {
   "cell_type": "markdown",
   "metadata": {},
   "source": [
    "3 RF"
   ]
  },
  {
   "cell_type": "markdown",
   "metadata": {},
   "source": [
    "3.1 Define RF function"
   ]
  },
  {
   "cell_type": "code",
   "execution_count": 17,
   "metadata": {},
   "outputs": [],
   "source": [
    "from sklearn.ensemble import RandomForestClassifier\n",
    "def RF_parallel(X_train,y_train,X_val,y_val):\n",
    "    \n",
    "    # define RF parameters\n",
    "    best_rf_clf = RandomForestClassifier(criterion='entropy',max_depth=30,n_estimators=140,random_state=666)\n",
    "    \n",
    "    best_rf_clf.fit(X_train, y_train) # train DT model\n",
    "\n",
    "    return [y_val,best_rf_clf.predict(X_val)] # return [true label, predicted label]"
   ]
  },
  {
   "cell_type": "markdown",
   "metadata": {},
   "source": [
    "3.2 10-fold CV with parallel processing"
   ]
  },
  {
   "cell_type": "code",
   "execution_count": 18,
   "metadata": {},
   "outputs": [
    {
     "name": "stdout",
     "output_type": "stream",
     "text": [
      "Wall time: 5min 44s\n"
     ]
    }
   ],
   "source": [
    "%%time\n",
    "from joblib import Parallel, delayed\n",
    "import multiprocessing\n",
    "from sklearn.model_selection import KFold\n",
    "\n",
    "kf = KFold(n_splits=10, random_state=666) # split data into 10 pairs of training set and validation set\n",
    " \n",
    "num_cores = multiprocessing.cpu_count() # count available CPU\n",
    "    \n",
    "# parallel processing for 10-fold CV with all CPU working in parallel\n",
    "result=Parallel(n_jobs=num_cores)(delayed(RF_parallel)(X_train[train],y_train[train],X_train[test],y_train[test] ) for train, test in kf.split(X_train))\n",
    "# Wall time: 5min 44s"
   ]
  },
  {
   "cell_type": "markdown",
   "metadata": {},
   "source": [
    "4 Evaluation"
   ]
  },
  {
   "cell_type": "markdown",
   "metadata": {},
   "source": [
    "4.1 classification_report"
   ]
  },
  {
   "cell_type": "code",
   "execution_count": 27,
   "metadata": {},
   "outputs": [
    {
     "name": "stdout",
     "output_type": "stream",
     "text": [
      "             precision    recall  f1-score   support\n",
      "\n",
      "          0       0.82      0.88      0.85      6000\n",
      "          1       0.99      0.97      0.98      6000\n",
      "          2       0.79      0.82      0.80      6000\n",
      "          3       0.88      0.92      0.90      6000\n",
      "          4       0.78      0.84      0.81      6000\n",
      "          5       0.97      0.95      0.96      6000\n",
      "          6       0.76      0.60      0.67      6000\n",
      "          7       0.94      0.95      0.94      6000\n",
      "          8       0.96      0.97      0.97      6000\n",
      "          9       0.95      0.95      0.95      6000\n",
      "\n",
      "avg / total       0.88      0.89      0.88     60000\n",
      "\n",
      "0.8850333333333333\n"
     ]
    }
   ],
   "source": [
    "from sklearn.metrics import classification_report\n",
    "from sklearn.metrics import accuracy_score\n",
    "tmp=np.hstack(np.asarray(result)) # stack all results from parallel processing\n",
    "\n",
    "print(classification_report(tmp[0], tmp[1]))\n",
    "print(accuracy_score(tmp[0], tmp[1])) # 0.8850333333333333\n",
    "\n",
    "#              precision    recall  f1-score   support\n",
    "\n",
    "#           0       0.82      0.88      0.85      6000\n",
    "#           1       0.99      0.97      0.98      6000\n",
    "#           2       0.79      0.82      0.80      6000\n",
    "#           3       0.88      0.92      0.90      6000\n",
    "#           4       0.78      0.84      0.81      6000\n",
    "#           5       0.97      0.95      0.96      6000\n",
    "#           6       0.76      0.60      0.67      6000\n",
    "#           7       0.94      0.95      0.94      6000\n",
    "#           8       0.96      0.97      0.97      6000\n",
    "#           9       0.95      0.95      0.95      6000\n",
    "\n",
    "# avg / total       0.88      0.89      0.88     60000"
   ]
  },
  {
   "cell_type": "code",
   "execution_count": 21,
   "metadata": {},
   "outputs": [
    {
     "data": {
      "text/plain": [
       "array([[5254,    2,   82,  176,   20,    5,  409,    0,   52,    0],\n",
       "       [  15, 5799,   22,  129,    8,    2,   23,    0,    2,    0],\n",
       "       [  41,    2, 4903,   58,  672,    0,  292,    0,   32,    0],\n",
       "       [ 116,   16,   43, 5520,  185,    0,  111,    0,    9,    0],\n",
       "       [   9,    5,  436,  205, 5068,    1,  253,    0,   22,    1],\n",
       "       [   0,    1,    0,    1,    0, 5719,    0,  182,   25,   72],\n",
       "       [ 951,    6,  697,  148,  506,    2, 3605,    0,   85,    0],\n",
       "       [   0,    0,    0,    0,    0,   77,    0, 5676,   11,  236],\n",
       "       [   7,    3,   28,   22,   26,   18,   51,   11, 5828,    6],\n",
       "       [   0,    0,    1,    1,    1,   61,    2,  196,    8, 5730]],\n",
       "      dtype=int64)"
      ]
     },
     "execution_count": 21,
     "metadata": {},
     "output_type": "execute_result"
    }
   ],
   "source": [
    "from sklearn.metrics import confusion_matrix\n",
    "\n",
    "cm_dt=confusion_matrix(tmp[0], tmp[1])\n",
    "cm_dt\n",
    "\n",
    "# array([[5254,    2,   82,  176,   20,    5,  409,    0,   52,    0],\n",
    "#        [  15, 5799,   22,  129,    8,    2,   23,    0,    2,    0],\n",
    "#        [  41,    2, 4903,   58,  672,    0,  292,    0,   32,    0],\n",
    "#        [ 116,   16,   43, 5520,  185,    0,  111,    0,    9,    0],\n",
    "#        [   9,    5,  436,  205, 5068,    1,  253,    0,   22,    1],\n",
    "#        [   0,    1,    0,    1,    0, 5719,    0,  182,   25,   72],\n",
    "#        [ 951,    6,  697,  148,  506,    2, 3605,    0,   85,    0],\n",
    "#        [   0,    0,    0,    0,    0,   77,    0, 5676,   11,  236],\n",
    "#        [   7,    3,   28,   22,   26,   18,   51,   11, 5828,    6],\n",
    "#        [   0,    0,    1,    1,    1,   61,    2,  196,    8, 5730]],\n",
    "#       dtype=int64)"
   ]
  },
  {
   "cell_type": "code",
   "execution_count": 23,
   "metadata": {},
   "outputs": [
    {
     "data": {
      "image/png": "[encoded data removed]",
      "text/plain": [
       "<Figure size 288x288 with 1 Axes>"
      ]
     },
     "metadata": {},
     "output_type": "display_data"
    }
   ],
   "source": [
    "# visualization\n",
    "import matplotlib.pyplot as plt\n",
    "plt.matshow(cm_dt, cmap=plt.cm.gray)\n",
    "plt.show()\n",
    "#present in gray value, bigger values are brighter\n"
   ]
  },
  {
   "cell_type": "code",
   "execution_count": 24,
   "metadata": {},
   "outputs": [
    {
     "data": {
      "image/png": "[encoded data removed]",
      "text/plain": [
       "<Figure size 432x288 with 1 Axes>"
      ]
     },
     "metadata": {},
     "output_type": "display_data"
    }
   ],
   "source": [
    "#another way to visulize\n",
    "fig, ax = plt.subplots()\n",
    "im = ax.imshow(cm_dt)\n",
    "for i in range(10):\n",
    "    for j in range(10):\n",
    "        text = ax.text(j, i, cm_dt[i][j], ha='center', va='center', color='w')\n",
    "fig.tight_layout()\n",
    "plt.show()"
   ]
  },
  {
   "cell_type": "code",
   "execution_count": 25,
   "metadata": {},
   "outputs": [
    {
     "data": {
      "image/png": "[encoded data removed]",
      "text/plain": [
       "<Figure size 288x288 with 1 Axes>"
      ]
     },
     "metadata": {},
     "output_type": "display_data"
    }
   ],
   "source": [
    "error_matrix = cm_dt / np.sum(cm_dt, axis=1)\n",
    "np.fill_diagonal(error_matrix, 0)\n",
    "#error_matrix: the bigger value means more wrong predictions\n",
    "# visualization\n",
    "import matplotlib.pyplot as plt\n",
    "plt.matshow(error_matrix, cmap=plt.cm.gray)\n",
    "plt.show()\n",
    "#present in gray value, bigger values are brighter"
   ]
  }
 ],
 "metadata": {
  "kernelspec": {
   "display_name": "Python 3",
   "language": "python",
   "name": "python3"
  },
  "language_info": {
   "codemirror_mode": {
    "name": "ipython",
    "version": 3
   },
   "file_extension": ".py",
   "mimetype": "text/x-python",
   "name": "python",
   "nbconvert_exporter": "python",
   "pygments_lexer": "ipython3",
   "version": "3.6.5"
  }
 },
 "nbformat": 4,
 "nbformat_minor": 2
}
