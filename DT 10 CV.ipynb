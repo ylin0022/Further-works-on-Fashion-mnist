{
 "cells": [
  {
   "cell_type": "markdown",
   "metadata": {},
   "source": [
    "# COMP5318 - Machine Learning and Data Mining \n",
    "\n",
    "## Decision Tree\n",
    "\n",
    "#### 10 fold cross validation"
   ]
  },
  {
   "cell_type": "markdown",
   "metadata": {},
   "source": [
    "### 1 Load data"
   ]
  },
  {
   "cell_type": "code",
   "execution_count": 7,
   "metadata": {},
   "outputs": [],
   "source": [
    "import numpy as np\n",
    "import mnist_reader\n",
    "X_train, y_train = mnist_reader.load_mnist('data/fashion', kind='train')\n",
    "X_test, y_test = mnist_reader.load_mnist('data/fashion', kind='t10k')"
   ]
  },
  {
   "cell_type": "markdown",
   "metadata": {},
   "source": [
    "### 2 Standardization"
   ]
  },
  {
   "cell_type": "code",
   "execution_count": 8,
   "metadata": {},
   "outputs": [
    {
     "name": "stderr",
     "output_type": "stream",
     "text": [
      "G:\\Anaconda3\\lib\\site-packages\\sklearn\\utils\\validation.py:475: DataConversionWarning: Data with input dtype uint8 was converted to float64 by StandardScaler.\n",
      "  warnings.warn(msg, DataConversionWarning)\n"
     ]
    }
   ],
   "source": [
    "from sklearn.preprocessing import StandardScaler\n",
    "scaler = StandardScaler()\n",
    "\n",
    "scaler.fit(X_test)\n",
    "X_test = scaler.transform(X_test)\n",
    "\n",
    "scaler.fit(X_train)\n",
    "X_train = scaler.transform(X_train)"
   ]
  },
  {
   "cell_type": "markdown",
   "metadata": {},
   "source": [
    "### 3 DT"
   ]
  },
  {
   "cell_type": "markdown",
   "metadata": {},
   "source": [
    "#### 3.1 Define DT function"
   ]
  },
  {
   "cell_type": "code",
   "execution_count": 9,
   "metadata": {},
   "outputs": [],
   "source": [
    "from sklearn.tree import DecisionTreeClassifier\n",
    "def DT_parallel(X_train,y_train,X_val,y_val):\n",
    "    \n",
    "    # define DT parameters\n",
    "    best_dt_clf = DecisionTreeClassifier(criterion='entropy',max_depth=10,splitter='best',random_state=666)\n",
    "\n",
    "    best_dt_clf.fit(X_train, y_train) # train DT model\n",
    "\n",
    "    return [y_val,best_dt_clf.predict(X_val)] # return [true label, predicted label]"
   ]
  },
  {
   "cell_type": "markdown",
   "metadata": {},
   "source": [
    "#### 3.2 10-fold CV with parallel processing"
   ]
  },
  {
   "cell_type": "code",
   "execution_count": 10,
   "metadata": {},
   "outputs": [
    {
     "name": "stdout",
     "output_type": "stream",
     "text": [
      "Wall time: 1min\n"
     ]
    }
   ],
   "source": [
    "%%time\n",
    "from joblib import Parallel, delayed\n",
    "import multiprocessing\n",
    "from sklearn.model_selection import KFold\n",
    "\n",
    "kf = KFold(n_splits=10, random_state=666) # split data into 10 pairs of training set and validation set\n",
    " \n",
    "num_cores = multiprocessing.cpu_count() # count available CPU\n",
    "    \n",
    "# parallel processing for 10-fold CV with all CPU working in parallel\n",
    "result=Parallel(n_jobs=num_cores)(delayed(DT_parallel)(X_train[train],y_train[train],X_train[test],y_train[test] ) for train, test in kf.split(X_train))\n",
    "# Wall time: 1min"
   ]
  },
  {
   "cell_type": "markdown",
   "metadata": {},
   "source": [
    "### 4 Evaluation"
   ]
  },
  {
   "cell_type": "markdown",
   "metadata": {},
   "source": [
    "#### 4.1 classification_report"
   ]
  },
  {
   "cell_type": "code",
   "execution_count": 11,
   "metadata": {},
   "outputs": [
    {
     "name": "stdout",
     "output_type": "stream",
     "text": [
      "             precision    recall  f1-score   support\n",
      "\n",
      "          0       0.74      0.82      0.78      6000\n",
      "          1       0.97      0.93      0.95      6000\n",
      "          2       0.71      0.71      0.71      6000\n",
      "          3       0.81      0.84      0.82      6000\n",
      "          4       0.66      0.74      0.70      6000\n",
      "          5       0.92      0.86      0.89      6000\n",
      "          6       0.63      0.50      0.56      6000\n",
      "          7       0.83      0.90      0.87      6000\n",
      "          8       0.94      0.92      0.93      6000\n",
      "          9       0.91      0.89      0.90      6000\n",
      "\n",
      "avg / total       0.81      0.81      0.81     60000\n",
      "\n",
      "0.8112166666666667\n"
     ]
    }
   ],
   "source": [
    "from sklearn.metrics import classification_report\n",
    "from sklearn.metrics import accuracy_score\n",
    "\n",
    "tmp=np.hstack(np.asarray(result)) # stack all results from parallel processing\n",
    "\n",
    "print(classification_report(tmp[0], tmp[1]))\n",
    "print(accuracy_score(tmp[0], tmp[1])) # 0.8112166666666667\n",
    "\n",
    "\n",
    "#              precision    recall  f1-score   support\n",
    "\n",
    "#           0       0.74      0.82      0.78      6000\n",
    "#           1       0.97      0.93      0.95      6000\n",
    "#           2       0.71      0.71      0.71      6000\n",
    "#           3       0.81      0.84      0.82      6000\n",
    "#           4       0.66      0.74      0.70      6000\n",
    "#           5       0.92      0.86      0.89      6000\n",
    "#           6       0.63      0.50      0.56      6000\n",
    "#           7       0.83      0.90      0.87      6000\n",
    "#           8       0.94      0.92      0.93      6000\n",
    "#           9       0.91      0.89      0.90      6000\n",
    "\n",
    "# avg / total       0.81      0.81      0.81     60000"
   ]
  },
  {
   "cell_type": "code",
   "execution_count": 9,
   "metadata": {},
   "outputs": [
    {
     "data": {
      "text/plain": [
       "array([[4919,   29,  102,  251,   53,    9,  582,    4,   48,    3],\n",
       "       [  31, 5603,   47,  265,   16,    4,   26,    0,    7,    1],\n",
       "       [  87,    8, 4242,   89, 1126,    4,  401,    1,   40,    2],\n",
       "       [ 303,  101,   69, 5012,  330,   12,  136,    0,   31,    6],\n",
       "       [  35,   10,  661,  269, 4438,    2,  550,    2,   32,    1],\n",
       "       [  11,    8,    7,   14,    2, 5179,    7,  501,   79,  192],\n",
       "       [1155,   21,  783,  209,  716,   15, 3014,    0,   84,    3],\n",
       "       [   0,    0,    0,    0,    0,  231,    1, 5428,   15,  325],\n",
       "       [  63,   14,   85,   55,   62,   65,   90,   41, 5517,    8],\n",
       "       [   4,    1,    4,    6,    1,  103,    8,  538,   14, 5321]],\n",
       "      dtype=int64)"
      ]
     },
     "execution_count": 9,
     "metadata": {},
     "output_type": "execute_result"
    }
   ],
   "source": [
    "from sklearn.metrics import confusion_matrix\n",
    "\n",
    "cm_dt=confusion_matrix(tmp[0], tmp[1])\n",
    "cm_dt\n",
    "\n",
    "# array([[4919,   29,  102,  251,   53,    9,  582,    4,   48,    3],\n",
    "#        [  31, 5603,   47,  265,   16,    4,   26,    0,    7,    1],\n",
    "#        [  87,    8, 4242,   89, 1126,    4,  401,    1,   40,    2],\n",
    "#        [ 303,  101,   69, 5012,  330,   12,  136,    0,   31,    6],\n",
    "#        [  35,   10,  661,  269, 4438,    2,  550,    2,   32,    1],\n",
    "#        [  11,    8,    7,   14,    2, 5179,    7,  501,   79,  192],\n",
    "#        [1155,   21,  783,  209,  716,   15, 3014,    0,   84,    3],\n",
    "#        [   0,    0,    0,    0,    0,  231,    1, 5428,   15,  325],\n",
    "#        [  63,   14,   85,   55,   62,   65,   90,   41, 5517,    8],\n",
    "#        [   4,    1,    4,    6,    1,  103,    8,  538,   14, 5321]],\n",
    "#       dtype=int64)"
   ]
  },
  {
   "cell_type": "code",
   "execution_count": 13,
   "metadata": {},
   "outputs": [
    {
     "data": {
      "image/png": "[encoded data removed]",
      "text/plain": [
       "<Figure size 288x288 with 1 Axes>"
      ]
     },
     "metadata": {},
     "output_type": "display_data"
    }
   ],
   "source": [
    "# visualization\n",
    "import matplotlib.pyplot as plt\n",
    "plt.matshow(cm_dt, cmap=plt.cm.gray)\n",
    "plt.show()\n",
    "#present in gray value, bigger values are brighter\n"
   ]
  },
  {
   "cell_type": "code",
   "execution_count": 11,
   "metadata": {},
   "outputs": [
    {
     "data": {
      "image/png": "[encoded data removed]",
      "text/plain": [
       "<Figure size 432x288 with 1 Axes>"
      ]
     },
     "metadata": {},
     "output_type": "display_data"
    }
   ],
   "source": [
    "#another way to visulize\n",
    "fig, ax = plt.subplots()\n",
    "im = ax.imshow(cm_dt)\n",
    "for i in range(10):\n",
    "    for j in range(10):\n",
    "        text = ax.text(j, i, cm_dt[i][j], ha='center', va='center', color='w')\n",
    "fig.tight_layout()\n",
    "plt.show()"
   ]
  },
  {
   "cell_type": "code",
   "execution_count": 12,
   "metadata": {},
   "outputs": [
    {
     "data": {
      "image/png": "[encoded data removed]",
      "text/plain": [
       "<Figure size 288x288 with 1 Axes>"
      ]
     },
     "metadata": {},
     "output_type": "display_data"
    }
   ],
   "source": [
    "error_matrix = cm_dt / np.sum(cm_dt, axis=1)\n",
    "np.fill_diagonal(error_matrix, 0)\n",
    "#error_matrix: the bigger value means more wrong predictions\n",
    "# visualization\n",
    "import matplotlib.pyplot as plt\n",
    "plt.matshow(error_matrix, cmap=plt.cm.gray)\n",
    "plt.show()\n",
    "#present in gray value, bigger values are brighter"
   ]
  }
 ],
 "metadata": {
  "kernelspec": {
   "display_name": "Python 3",
   "language": "python",
   "name": "python3"
  },
  "language_info": {
   "codemirror_mode": {
    "name": "ipython",
    "version": 3
   },
   "file_extension": ".py",
   "mimetype": "text/x-python",
   "name": "python",
   "nbconvert_exporter": "python",
   "pygments_lexer": "ipython3",
   "version": "3.6.5"
  }
 },
 "nbformat": 4,
 "nbformat_minor": 2
}
