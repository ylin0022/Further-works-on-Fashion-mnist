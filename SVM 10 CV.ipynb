{
 "cells": [
  {
   "cell_type": "markdown",
   "metadata": {},
   "source": [
    "# COMP5318 - Machine Learning and Data Mining \n",
    "\n",
    "## SVM\n",
    "\n",
    "#### 10 fold cross validation"
   ]
  },
  {
   "cell_type": "markdown",
   "metadata": {},
   "source": [
    "### 1 Load data"
   ]
  },
  {
   "cell_type": "code",
   "execution_count": 1,
   "metadata": {},
   "outputs": [],
   "source": [
    "import numpy as np\n",
    "import mnist_reader\n",
    "X_train, y_train = mnist_reader.load_mnist('data/fashion', kind='train')\n",
    "X_test, y_test = mnist_reader.load_mnist('data/fashion', kind='t10k')"
   ]
  },
  {
   "cell_type": "markdown",
   "metadata": {},
   "source": [
    "### 2 Standardization"
   ]
  },
  {
   "cell_type": "code",
   "execution_count": 2,
   "metadata": {},
   "outputs": [
    {
     "name": "stderr",
     "output_type": "stream",
     "text": [
      "G:\\Anaconda3\\lib\\site-packages\\sklearn\\utils\\validation.py:475: DataConversionWarning: Data with input dtype uint8 was converted to float64 by StandardScaler.\n",
      "  warnings.warn(msg, DataConversionWarning)\n"
     ]
    }
   ],
   "source": [
    "from sklearn.preprocessing import StandardScaler\n",
    "scaler = StandardScaler()\n",
    "\n",
    "scaler.fit(X_test)\n",
    "X_test = scaler.transform(X_test)\n",
    "\n",
    "scaler.fit(X_train)\n",
    "X_train = scaler.transform(X_train)"
   ]
  },
  {
   "cell_type": "markdown",
   "metadata": {},
   "source": [
    "### 3 SVM"
   ]
  },
  {
   "cell_type": "markdown",
   "metadata": {},
   "source": [
    "#### 3.1 Define SVM function"
   ]
  },
  {
   "cell_type": "code",
   "execution_count": 6,
   "metadata": {},
   "outputs": [],
   "source": [
    "from sklearn.decomposition import PCA\n",
    "from sklearn.svm import SVC\n",
    "def SVM_parallel(X_train,y_train,X_val,y_val):\n",
    "    \n",
    "    pca = PCA(0.9) # PCA retain 90% variance\n",
    "    pca.fit(X_train) # train PCA\n",
    "    \n",
    "    X_train_PCA = pca.transform(X_train) # PCA transform for training data\n",
    "    X_val_PCA = pca.transform(X_val) # PCA transform for teting data\n",
    "    \n",
    "    poly_svm = SVC(C= 1,kernel= 'poly') # define SVM parameters: degree 3 polynomial, C=1\n",
    "    poly_svm.fit(X_train_PCA, y_train) # train SVM model\n",
    "\n",
    "    return [y_val,poly_svm.predict(X_val_PCA)] # return [true label, predicted label]"
   ]
  },
  {
   "cell_type": "markdown",
   "metadata": {},
   "source": [
    "#### 3.2 10-fold CV with parallel processing"
   ]
  },
  {
   "cell_type": "code",
   "execution_count": 7,
   "metadata": {},
   "outputs": [
    {
     "name": "stdout",
     "output_type": "stream",
     "text": [
      "Wall time: 7min 40s\n"
     ]
    }
   ],
   "source": [
    "%%time\n",
    "from joblib import Parallel, delayed\n",
    "import multiprocessing\n",
    "from sklearn.model_selection import KFold\n",
    "\n",
    "kf = KFold(n_splits=10, random_state=666) # split data into 10 pairs of training set and validation set\n",
    " \n",
    "num_cores = multiprocessing.cpu_count() # count available CPU\n",
    "     \n",
    "# parallel processing for 10-fold CV with all CPU working in parallel\n",
    "result = Parallel(n_jobs=num_cores)(delayed(SVM_parallel)(X_train[train],y_train[train],X_train[test],y_train[test] ) for train, test in kf.split(X_train))\n",
    "\n",
    "# Wall time: 7min 40s"
   ]
  },
  {
   "cell_type": "markdown",
   "metadata": {},
   "source": [
    "### 4 Evaluation"
   ]
  },
  {
   "cell_type": "markdown",
   "metadata": {},
   "source": [
    "#### 4.1 Classification report"
   ]
  },
  {
   "cell_type": "code",
   "execution_count": 8,
   "metadata": {},
   "outputs": [
    {
     "name": "stdout",
     "output_type": "stream",
     "text": [
      "             precision    recall  f1-score   support\n",
      "\n",
      "          0       0.82      0.86      0.84      6000\n",
      "          1       0.98      0.98      0.98      6000\n",
      "          2       0.81      0.83      0.82      6000\n",
      "          3       0.90      0.90      0.90      6000\n",
      "          4       0.83      0.83      0.83      6000\n",
      "          5       0.97      0.96      0.97      6000\n",
      "          6       0.74      0.71      0.73      6000\n",
      "          7       0.94      0.95      0.95      6000\n",
      "          8       0.98      0.97      0.97      6000\n",
      "          9       0.96      0.96      0.96      6000\n",
      "\n",
      "avg / total       0.89      0.89      0.89     60000\n",
      "\n",
      "0.8947\n"
     ]
    }
   ],
   "source": [
    "from sklearn.metrics import classification_report\n",
    "from sklearn.metrics import accuracy_score\n",
    "\n",
    "tmp=np.hstack(np.asarray(result)) # stack all results from parallel processing\n",
    "\n",
    "print(classification_report(tmp[0], tmp[1]))\n",
    "print(accuracy_score(tmp[0], tmp[1])) # 0.8947\n",
    "\n",
    "#              precision    recall  f1-score   support\n",
    "\n",
    "#           0       0.82      0.86      0.84      6000\n",
    "#           1       0.98      0.98      0.98      6000\n",
    "#           2       0.81      0.83      0.82      6000\n",
    "#           3       0.90      0.90      0.90      6000\n",
    "#           4       0.83      0.83      0.83      6000\n",
    "#           5       0.97      0.96      0.97      6000\n",
    "#           6       0.74      0.71      0.73      6000\n",
    "#           7       0.94      0.95      0.95      6000\n",
    "#           8       0.98      0.97      0.97      6000\n",
    "#           9       0.96      0.96      0.96      6000\n",
    "\n",
    "# avg / total       0.89      0.89      0.89     60000"
   ]
  },
  {
   "cell_type": "markdown",
   "metadata": {},
   "source": [
    "#### 4.2 Confusion matrix"
   ]
  },
  {
   "cell_type": "code",
   "execution_count": 108,
   "metadata": {},
   "outputs": [
    {
     "data": {
      "text/plain": [
       "array([[5135,   11,   94,  118,   14,    3,  587,    2,   36,    0],\n",
       "       [  12, 5888,    8,   68,    7,    0,   11,    0,    5,    1],\n",
       "       [ 122,    9, 4975,   58,  438,    2,  385,    0,   11,    0],\n",
       "       [ 167,   48,   56, 5422,  180,    0,  117,    0,   10,    0],\n",
       "       [  24,   10,  494,  169, 4984,    0,  309,    0,   10,    0],\n",
       "       [   1,    0,    2,    2,    0, 5773,    2,  126,   14,   80],\n",
       "       [ 732,   17,  472,  144,  328,    1, 4263,    0,   43,    0],\n",
       "       [   0,    0,    0,    0,    0,  107,    1, 5706,    4,  182],\n",
       "       [  39,    7,   39,   18,   20,   10,   52,   14, 5801,    0],\n",
       "       [   1,    0,    0,    0,    1,   53,    2,  206,    2, 5735]],\n",
       "      dtype=int64)"
      ]
     },
     "execution_count": 108,
     "metadata": {},
     "output_type": "execute_result"
    }
   ],
   "source": [
    "from sklearn.metrics import confusion_matrix\n",
    "\n",
    "cm_dt=confusion_matrix(tmp[0], tmp[1])\n",
    "cm_dt\n",
    "\n",
    "# array([[5135,   11,   94,  118,   14,    3,  587,    2,   36,    0],\n",
    "#        [  12, 5888,    8,   68,    7,    0,   11,    0,    5,    1],\n",
    "#        [ 122,    9, 4975,   58,  438,    2,  385,    0,   11,    0],\n",
    "#        [ 167,   48,   56, 5422,  180,    0,  117,    0,   10,    0],\n",
    "#        [  24,   10,  494,  169, 4984,    0,  309,    0,   10,    0],\n",
    "#        [   1,    0,    2,    2,    0, 5773,    2,  126,   14,   80],\n",
    "#        [ 732,   17,  472,  144,  328,    1, 4263,    0,   43,    0],\n",
    "#        [   0,    0,    0,    0,    0,  107,    1, 5706,    4,  182],\n",
    "#        [  39,    7,   39,   18,   20,   10,   52,   14, 5801,    0],\n",
    "#        [   1,    0,    0,    0,    1,   53,    2,  206,    2, 5735]],\n",
    "#       dtype=int64)"
   ]
  },
  {
   "cell_type": "code",
   "execution_count": 110,
   "metadata": {},
   "outputs": [
    {
     "data": {
      "image/png": "[encoded data removed]",
      "text/plain": [
       "<Figure size 288x288 with 1 Axes>"
      ]
     },
     "metadata": {},
     "output_type": "display_data"
    }
   ],
   "source": [
    "# visualization\n",
    "import matplotlib.pyplot as plt\n",
    "plt.matshow(cm_dt, cmap=plt.cm.gray)\n",
    "plt.show()\n",
    "#present in gray value, bigger values are brighter\n"
   ]
  },
  {
   "cell_type": "code",
   "execution_count": 111,
   "metadata": {},
   "outputs": [
    {
     "data": {
      "image/png": "[encoded data removed]",
      "text/plain": [
       "<Figure size 432x288 with 1 Axes>"
      ]
     },
     "metadata": {},
     "output_type": "display_data"
    }
   ],
   "source": [
    "#another way to visulize\n",
    "fig, ax = plt.subplots()\n",
    "im = ax.imshow(cm_dt)\n",
    "for i in range(10):\n",
    "    for j in range(10):\n",
    "        text = ax.text(j, i, cm_dt[i][j], ha='center', va='center', color='w')\n",
    "fig.tight_layout()\n",
    "plt.show()"
   ]
  },
  {
   "cell_type": "code",
   "execution_count": 112,
   "metadata": {},
   "outputs": [
    {
     "data": {
      "image/png": "[encoded data removed]",
      "text/plain": [
       "<Figure size 288x288 with 1 Axes>"
      ]
     },
     "metadata": {},
     "output_type": "display_data"
    }
   ],
   "source": [
    "error_matrix = cm_dt / np.sum(cm_dt, axis=1)\n",
    "np.fill_diagonal(error_matrix, 0)\n",
    "#error_matrix: the bigger value means more wrong predictions\n",
    "# visualization\n",
    "import matplotlib.pyplot as plt\n",
    "plt.matshow(error_matrix, cmap=plt.cm.gray)\n",
    "plt.show()\n",
    "#present in gray value, bigger values are brighter"
   ]
  }
 ],
 "metadata": {
  "kernelspec": {
   "display_name": "Python 3",
   "language": "python",
   "name": "python3"
  },
  "language_info": {
   "codemirror_mode": {
    "name": "ipython",
    "version": 3
   },
   "file_extension": ".py",
   "mimetype": "text/x-python",
   "name": "python",
   "nbconvert_exporter": "python",
   "pygments_lexer": "ipython3",
   "version": "3.6.5"
  }
 },
 "nbformat": 4,
 "nbformat_minor": 2
}
