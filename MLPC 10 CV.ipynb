{
 "cells": [
  {
   "cell_type": "markdown",
   "metadata": {},
   "source": [
    "# COMP5318 - Machine Learning and Data Mining \n",
    "\n",
    "## MLPC\n",
    "\n",
    "#### 10 fold cross validation"
   ]
  },
  {
   "cell_type": "markdown",
   "metadata": {},
   "source": [
    "### 1 Load data"
   ]
  },
  {
   "cell_type": "code",
   "execution_count": 10,
   "metadata": {},
   "outputs": [],
   "source": [
    "import numpy as np\n",
    "import mnist_reader\n",
    "X_train, y_train = mnist_reader.load_mnist('data/fashion', kind='train')\n",
    "X_test, y_test = mnist_reader.load_mnist('data/fashion', kind='t10k')"
   ]
  },
  {
   "cell_type": "markdown",
   "metadata": {},
   "source": [
    "### 2 Standardization"
   ]
  },
  {
   "cell_type": "code",
   "execution_count": 11,
   "metadata": {},
   "outputs": [
    {
     "name": "stderr",
     "output_type": "stream",
     "text": [
      "G:\\Anaconda3\\lib\\site-packages\\sklearn\\utils\\validation.py:475: DataConversionWarning: Data with input dtype uint8 was converted to float64 by StandardScaler.\n",
      "  warnings.warn(msg, DataConversionWarning)\n"
     ]
    }
   ],
   "source": [
    "from sklearn.preprocessing import StandardScaler\n",
    "scaler = StandardScaler()\n",
    "\n",
    "scaler.fit(X_test)\n",
    "X_test = scaler.transform(X_test)\n",
    "\n",
    "scaler.fit(X_train)\n",
    "X_train = scaler.transform(X_train)"
   ]
  },
  {
   "cell_type": "markdown",
   "metadata": {},
   "source": [
    "### 3 MLPC"
   ]
  },
  {
   "cell_type": "markdown",
   "metadata": {},
   "source": [
    "#### 3.1 Define MLPC function"
   ]
  },
  {
   "cell_type": "code",
   "execution_count": 12,
   "metadata": {},
   "outputs": [],
   "source": [
    "from sklearn.decomposition import PCA\n",
    "from sklearn.neural_network import MLPClassifier\n",
    "def MLPC_parallel(X_train,y_train,X_val,y_val):\n",
    "    \n",
    "    pca = PCA(0.9) # PCA retain 90% variance\n",
    "    pca.fit(X_train) # train PCA\n",
    "    \n",
    "    X_train_PCA = pca.transform(X_train) # PCA transform for training data\n",
    "    X_val_PCA = pca.transform(X_val) # PCA transform for teting data\n",
    "    \n",
    "    MLPC = MLPClassifier(activation= 'relu', hidden_layer_sizes= [100]) # define MLPC parameters: relu activation function, 100 hidden neural\n",
    "    MLPC.fit(X_train_PCA, y_train) # train MLPC model\n",
    "\n",
    "    return [y_val,MLPC.predict(X_val_PCA)] # return [true label, predicted label]"
   ]
  },
  {
   "cell_type": "markdown",
   "metadata": {},
   "source": [
    "#### 3.2 10-fold CV with parallel processing"
   ]
  },
  {
   "cell_type": "code",
   "execution_count": 13,
   "metadata": {},
   "outputs": [
    {
     "name": "stdout",
     "output_type": "stream",
     "text": [
      "Wall time: 2min 53s\n"
     ]
    }
   ],
   "source": [
    "%%time\n",
    "from joblib import Parallel, delayed\n",
    "import multiprocessing\n",
    "from sklearn.model_selection import KFold\n",
    "\n",
    "kf = KFold(n_splits=10, random_state=666) # split data into 10 pairs of training set and validation set\n",
    " \n",
    "num_cores = multiprocessing.cpu_count() # count available CPU\n",
    "    \n",
    "# parallel processing for 10-fold CV with all CPU working in parallel\n",
    "result=Parallel(n_jobs=num_cores)(delayed(MLPC_parallel)(X_train[train],y_train[train],X_train[test],y_train[test] ) for train, test in kf.split(X_train))\n",
    "# Wall time: 2min 53s"
   ]
  },
  {
   "cell_type": "markdown",
   "metadata": {},
   "source": [
    "### 4 Evaluation"
   ]
  },
  {
   "cell_type": "markdown",
   "metadata": {},
   "source": [
    "#### 4.1 Classification report"
   ]
  },
  {
   "cell_type": "code",
   "execution_count": 14,
   "metadata": {},
   "outputs": [
    {
     "name": "stdout",
     "output_type": "stream",
     "text": [
      "             precision    recall  f1-score   support\n",
      "\n",
      "          0       0.82      0.82      0.82      6000\n",
      "          1       0.98      0.98      0.98      6000\n",
      "          2       0.80      0.81      0.81      6000\n",
      "          3       0.88      0.88      0.88      6000\n",
      "          4       0.80      0.80      0.80      6000\n",
      "          5       0.95      0.95      0.95      6000\n",
      "          6       0.69      0.70      0.70      6000\n",
      "          7       0.94      0.93      0.94      6000\n",
      "          8       0.96      0.95      0.96      6000\n",
      "          9       0.95      0.95      0.95      6000\n",
      "\n",
      "avg / total       0.88      0.88      0.88     60000\n",
      "\n",
      "0.87685\n"
     ]
    }
   ],
   "source": [
    "from sklearn.metrics import classification_report\n",
    "from sklearn.metrics import accuracy_score\n",
    "\n",
    "tmp=np.hstack(np.asarray(result)) # stack all results from parallel processing\n",
    "\n",
    "print(classification_report(tmp[0], tmp[1]))\n",
    "print(accuracy_score(tmp[0], tmp[1])) # 0.87685\n",
    "\n",
    "#              precision    recall  f1-score   support\n",
    "\n",
    "#           0       0.83      0.82      0.83      6000\n",
    "#           1       0.98      0.98      0.98      6000\n",
    "#           2       0.80      0.80      0.80      6000\n",
    "#           3       0.89      0.88      0.89      6000\n",
    "#           4       0.79      0.80      0.80      6000\n",
    "#           5       0.96      0.95      0.95      6000\n",
    "#           6       0.69      0.70      0.70      6000\n",
    "#           7       0.94      0.93      0.94      6000\n",
    "#           8       0.96      0.96      0.96      6000\n",
    "#           9       0.94      0.96      0.95      6000\n",
    "\n",
    "# avg / total       0.88      0.88      0.88     60000"
   ]
  },
  {
   "cell_type": "markdown",
   "metadata": {},
   "source": [
    "#### 4.2 Confusion matrix"
   ]
  },
  {
   "cell_type": "code",
   "execution_count": 7,
   "metadata": {},
   "outputs": [
    {
     "data": {
      "text/plain": [
       "array([[4934,   19,  122,  144,   28,    5,  704,    1,   41,    2],\n",
       "       [  13, 5857,   11,   75,   11,    2,   24,    1,    5,    1],\n",
       "       [ 112,    5, 4780,   67,  546,    7,  463,    0,   19,    1],\n",
       "       [ 157,   65,   66, 5294,  218,    3,  173,    1,   21,    2],\n",
       "       [  24,   14,  487,  192, 4829,    4,  426,    0,   23,    1],\n",
       "       [   3,    2,    4,    3,    1, 5716,    5,  141,   31,   94],\n",
       "       [ 666,   16,  450,  145,  430,    5, 4227,    1,   58,    2],\n",
       "       [   0,    1,    2,    0,    0,  141,    0, 5609,   11,  236],\n",
       "       [  34,    8,   30,   33,   31,   26,   65,   12, 5752,    9],\n",
       "       [   0,    3,    2,    2,    1,   68,    1,  183,    8, 5732]],\n",
       "      dtype=int64)"
      ]
     },
     "execution_count": 7,
     "metadata": {},
     "output_type": "execute_result"
    }
   ],
   "source": [
    "from sklearn.metrics import confusion_matrix\n",
    "\n",
    "cm_dt=confusion_matrix(tmp[0], tmp[1])\n",
    "cm_dt\n",
    "\n",
    "# array([[4934,   19,  122,  144,   28,    5,  704,    1,   41,    2],\n",
    "#        [  13, 5857,   11,   75,   11,    2,   24,    1,    5,    1],\n",
    "#        [ 112,    5, 4780,   67,  546,    7,  463,    0,   19,    1],\n",
    "#        [ 157,   65,   66, 5294,  218,    3,  173,    1,   21,    2],\n",
    "#        [  24,   14,  487,  192, 4829,    4,  426,    0,   23,    1],\n",
    "#        [   3,    2,    4,    3,    1, 5716,    5,  141,   31,   94],\n",
    "#        [ 666,   16,  450,  145,  430,    5, 4227,    1,   58,    2],\n",
    "#        [   0,    1,    2,    0,    0,  141,    0, 5609,   11,  236],\n",
    "#        [  34,    8,   30,   33,   31,   26,   65,   12, 5752,    9],\n",
    "#        [   0,    3,    2,    2,    1,   68,    1,  183,    8, 5732]],\n",
    "#       dtype=int64)"
   ]
  },
  {
   "cell_type": "code",
   "execution_count": 9,
   "metadata": {},
   "outputs": [
    {
     "data": {
      "image/png": "[encoded data removed]",
      "text/plain": [
       "<Figure size 288x288 with 1 Axes>"
      ]
     },
     "metadata": {},
     "output_type": "display_data"
    }
   ],
   "source": [
    "# visualization\n",
    "import matplotlib.pyplot as plt\n",
    "plt.matshow(cm_dt, cmap=plt.cm.gray)\n",
    "plt.show()\n",
    "#present in gray value, bigger values are brighter\n"
   ]
  },
  {
   "cell_type": "code",
   "execution_count": 10,
   "metadata": {},
   "outputs": [
    {
     "data": {
      "image/png": "[encoded data removed]",
      "text/plain": [
       "<Figure size 432x288 with 1 Axes>"
      ]
     },
     "metadata": {},
     "output_type": "display_data"
    }
   ],
   "source": [
    "#another way to visulize\n",
    "fig, ax = plt.subplots()\n",
    "im = ax.imshow(cm_dt)\n",
    "for i in range(10):\n",
    "    for j in range(10):\n",
    "        text = ax.text(j, i, cm_dt[i][j], ha='center', va='center', color='w')\n",
    "fig.tight_layout()\n",
    "plt.show()"
   ]
  },
  {
   "cell_type": "code",
   "execution_count": 11,
   "metadata": {},
   "outputs": [
    {
     "data": {
      "image/png": "[encoded data removed]",
      "text/plain": [
       "<Figure size 288x288 with 1 Axes>"
      ]
     },
     "metadata": {},
     "output_type": "display_data"
    }
   ],
   "source": [
    "error_matrix = cm_dt / np.sum(cm_dt, axis=1)\n",
    "np.fill_diagonal(error_matrix, 0)\n",
    "#error_matrix: the bigger value means more wrong predictions\n",
    "# visualization\n",
    "import matplotlib.pyplot as plt\n",
    "plt.matshow(error_matrix, cmap=plt.cm.gray)\n",
    "plt.show()\n",
    "#present in gray value, bigger values are brighter"
   ]
  }
 ],
 "metadata": {
  "kernelspec": {
   "display_name": "Python 3",
   "language": "python",
   "name": "python3"
  },
  "language_info": {
   "codemirror_mode": {
    "name": "ipython",
    "version": 3
   },
   "file_extension": ".py",
   "mimetype": "text/x-python",
   "name": "python",
   "nbconvert_exporter": "python",
   "pygments_lexer": "ipython3",
   "version": "3.6.5"
  }
 },
 "nbformat": 4,
 "nbformat_minor": 2
}
